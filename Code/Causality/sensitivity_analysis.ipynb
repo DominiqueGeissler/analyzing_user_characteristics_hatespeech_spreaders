{
 "cells": [
  {
   "cell_type": "code",
   "execution_count": 76,
   "metadata": {
    "collapsed": true,
    "pycharm": {
     "name": "#%%\n"
    },
    "ExecuteTime": {
     "end_time": "2023-12-06T17:44:00.687842200Z",
     "start_time": "2023-12-06T17:44:00.632722300Z"
    }
   },
   "outputs": [],
   "source": [
    "import sensemakr as smkr\n",
    "import statsmodels.formula.api as smf\n",
    "import pandas as pd\n",
    "import pickle\n",
    "import numpy as np\n",
    "from functools import reduce\n",
    "from sklearn import linear_model\n",
    "from sklearn.decomposition import PCA"
   ]
  },
  {
   "cell_type": "code",
   "execution_count": 2,
   "outputs": [],
   "source": [
    "model_type = 'bprmf_t'"
   ],
   "metadata": {
    "collapsed": false,
    "pycharm": {
     "name": "#%%\n"
    },
    "ExecuteTime": {
     "end_time": "2023-12-06T14:12:46.014901600Z",
     "start_time": "2023-12-06T14:12:45.997464300Z"
    }
   }
  },
  {
   "cell_type": "code",
   "execution_count": 15,
   "outputs": [],
   "source": [
    "path = \"../../Data/regression/\"\n",
    "df = pd.read_csv(path + 'regression_data.csv')\n",
    "# log transformation\n",
    "df[[\"status_count\", \"followers_count\", \"friend_count\"]] = df[\n",
    "        [\"status_count\", \"followers_count\", \"friend_count\"]].applymap(lambda x: x + 1)\n",
    "df[[\"status_count\", \"followers_count\", \"friend_count\"]] = df[\n",
    "        [\"status_count\", \"followers_count\", \"friend_count\"]].apply(np.log)\n",
    "df.drop(\"user_id\", axis=1, inplace=True)\n",
    "temp = df.columns[:6].tolist()\n",
    "temp.extend(['X%s' % i for i in range(0, 64)])\n",
    "df.columns = temp"
   ],
   "metadata": {
    "collapsed": false,
    "ExecuteTime": {
     "end_time": "2023-12-06T14:17:20.233540100Z",
     "start_time": "2023-12-06T14:17:20.038866700Z"
    }
   }
  },
  {
   "cell_type": "code",
   "execution_count": null,
   "outputs": [],
   "source": [
    "# PCA\n",
    "num_components = 1\n",
    "confounder = df.loc[:,df.columns.str.startswith('X')]\n",
    "print(confounder.shape)\n",
    "# Perform PCA\n",
    "pca = PCA(n_components=num_components)\n",
    "principal_components = pca.fit_transform(confounder)\n",
    "# Create a DataFrame with the principal component scores for each row\n",
    "principal_df = pd.DataFrame(data=principal_components, columns=['PC1'], index=confounder.index)\n",
    "print(principal_df.shape)\n",
    "# Display the explained variance ratio\n",
    "print(\"Explained Variance Ratio:\", pca.explained_variance_ratio_)"
   ],
   "metadata": {
    "collapsed": false
   }
  },
  {
   "cell_type": "code",
   "execution_count": null,
   "outputs": [],
   "source": [
    "# replace embeddings with PC1\n",
    "df_confounder = df.drop(confounder.columns.tolist(), axis=1)\n",
    "df_confounder = pd.concat([df_confounder, principal_df], axis=1)\n",
    "df_confounder"
   ],
   "metadata": {
    "collapsed": false
   }
  },
  {
   "cell_type": "code",
   "execution_count": null,
   "outputs": [],
   "source": [
    "# train-test split\n",
    "train = df_confounder.groupby('label').apply(lambda x: x.sample(frac=0.8, random_state=200)).reset_index(level=0, drop=True)\n",
    "train = train.sample(frac=1)\n",
    "print(len(train))\n",
    "test = df_confounder.drop(train.index).sample(frac=1)\n",
    "print(len(test))"
   ],
   "metadata": {
    "collapsed": false
   }
  },
  {
   "cell_type": "code",
   "execution_count": 142,
   "outputs": [],
   "source": [
    "train.to_csv('train.csv', index=False)\n",
    "test.to_csv('test.csv', index=False)"
   ],
   "metadata": {
    "collapsed": false,
    "ExecuteTime": {
     "end_time": "2023-12-06T19:28:18.233377200Z",
     "start_time": "2023-12-06T19:28:18.100869700Z"
    }
   }
  },
  {
   "cell_type": "code",
   "execution_count": 143,
   "outputs": [],
   "source": [
    "def evaluate_performance(pred, test):\n",
    "    # evaluate performance\n",
    "    RMSE = ((pred - test['label'])).mean()\n",
    "    print(\"MSE: \", RMSE)\n",
    "    return RMSE\n",
    "\n",
    "def run_regression(formula, train, test):\n",
    "    # runs regression model\n",
    "    reg_model = smf.ols(formula=formula, data=train)\n",
    "    df_model = reg_model.fit()\n",
    "    pred = df_model.predict(test)\n",
    "    RMSE = evaluate_performance(pred, test)\n",
    "    coef = df_model.params\n",
    "    coef = ['%.5f' % elem for elem in coef]\n",
    "    print(df_model.summary())\n",
    "    conf = df_model.conf_int(alpha=0.05, cols=None)\n",
    "    print(conf)\n",
    "    # conf = ['%.5f' % elem for elem in conf]\n",
    "    # print(conf)\n",
    "    return df_model, RMSE, coef, conf"
   ],
   "metadata": {
    "collapsed": false,
    "ExecuteTime": {
     "end_time": "2023-12-06T19:28:18.688766Z",
     "start_time": "2023-12-06T19:28:18.656750300Z"
    }
   }
  },
  {
   "cell_type": "code",
   "execution_count": 144,
   "outputs": [
    {
     "data": {
      "text/plain": "'label ~ verified + register_time + status_count + followers_count + friend_count + PC1'"
     },
     "execution_count": 144,
     "metadata": {},
     "output_type": "execute_result"
    }
   ],
   "source": [
    "df_without_label = df_confounder.drop(columns=['label'])\n",
    "formula_bprmf = 'label ~ ' + \" + \".join(df_without_label.columns.tolist())\n",
    "formula_bprmf"
   ],
   "metadata": {
    "collapsed": false,
    "ExecuteTime": {
     "end_time": "2023-12-06T19:28:20.573062400Z",
     "start_time": "2023-12-06T19:28:20.540794Z"
    }
   }
  },
  {
   "cell_type": "code",
   "execution_count": null,
   "outputs": [],
   "source": [
    "reg_model = smf.ols(formula=formula_bprmf, data=train)\n",
    "df_model = reg_model.fit()\n",
    "# partial r2\n",
    "print(df_model.summary())\n",
    "smkr.partial_r2(df_model, \"PC1\")"
   ],
   "metadata": {
    "collapsed": false
   }
  },
  {
   "cell_type": "code",
   "execution_count": null,
   "outputs": [],
   "source": [
    "baseline_sense = smkr.Sensemakr(model = df_model,\n",
    "                              treatment = \"status_count\",\n",
    "                              benchmark_covariates = [\"PC1\"],\n",
    "                              kd = [0.2, 0.5, 0.8, 1.0])\n",
    "baseline_sense.summary()"
   ],
   "metadata": {
    "collapsed": false,
    "pycharm": {
     "name": "#%%\n"
    }
   }
  },
  {
   "cell_type": "code",
   "execution_count": null,
   "outputs": [],
   "source": [
    "baseline_sense = smkr.Sensemakr(model = df_model,\n",
    "                              treatment = \"followers_count\",\n",
    "                              benchmark_covariates = [\"PC1\"],\n",
    "                              kd = [0.2, 0.5, 0.8, 1.0])\n",
    "baseline_sense.summary()"
   ],
   "metadata": {
    "collapsed": false,
    "pycharm": {
     "name": "#%%\n"
    }
   }
  },
  {
   "cell_type": "code",
   "execution_count": null,
   "outputs": [],
   "source": [
    "baseline_sense = smkr.Sensemakr(model = df_model,\n",
    "                              treatment = \"verified\",\n",
    "                              benchmark_covariates = [\"PC1\"],\n",
    "                              kd = [0.2, 0.5, 0.8, 1.0])\n",
    "baseline_sense.summary()"
   ],
   "metadata": {
    "collapsed": false,
    "pycharm": {
     "name": "#%%\n"
    }
   }
  },
  {
   "cell_type": "code",
   "execution_count": null,
   "outputs": [],
   "source": [
    "baseline_sense = smkr.Sensemakr(model = df_model,\n",
    "                              treatment = \"friend_count\",\n",
    "                              benchmark_covariates = [\"PC1\"],\n",
    "                              kd = [0.2, 0.5, 0.8, 1.0])\n",
    "baseline_sense.summary()"
   ],
   "metadata": {
    "collapsed": false,
    "pycharm": {
     "name": "#%%\n"
    }
   }
  },
  {
   "cell_type": "code",
   "execution_count": null,
   "outputs": [],
   "source": [
    "baseline_sense = smkr.Sensemakr(model = df_model,\n",
    "                              treatment = \"register_time\",\n",
    "                              benchmark_covariates = [\"PC1\"],\n",
    "                              kd = [0.2, 0.5, 0.8, 1.0])\n",
    "baseline_sense.summary()"
   ],
   "metadata": {
    "collapsed": false
   }
  }
 ],
 "metadata": {
  "kernelspec": {
   "display_name": "Python 3",
   "language": "python",
   "name": "python3"
  },
  "language_info": {
   "codemirror_mode": {
    "name": "ipython",
    "version": 2
   },
   "file_extension": ".py",
   "mimetype": "text/x-python",
   "name": "python",
   "nbconvert_exporter": "python",
   "pygments_lexer": "ipython2",
   "version": "2.7.6"
  }
 },
 "nbformat": 4,
 "nbformat_minor": 0
}
