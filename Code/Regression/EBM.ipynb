{
 "cells": [
  {
   "cell_type": "code",
   "execution_count": 32,
   "id": "ccce5f8405cff566",
   "metadata": {
    "collapsed": true,
    "ExecuteTime": {
     "end_time": "2023-10-11T19:23:43.857314500Z",
     "start_time": "2023-10-11T19:23:43.843949200Z"
    }
   },
   "outputs": [],
   "source": [
    "import pandas as pd\n",
    "import numpy as np\n",
    "from interpret import set_visualize_provider\n",
    "from interpret.provider import InlineProvider\n",
    "set_visualize_provider(InlineProvider())\n",
    "from interpret.glassbox import ExplainableBoostingRegressor\n",
    "from interpret import show\n",
    "from sklearn.metrics import mean_squared_error\n",
    "import matplotlib.pyplot as plt\n",
    "import seaborn as sns\n",
    "from scipy import stats\n",
    "pd.options.mode.chained_assignment = None  # Disable the warning\n",
    "from sklearn import linear_model"
   ]
  },
  {
   "cell_type": "code",
   "execution_count": 3,
   "outputs": [],
   "source": [
    "def format_float(x):\n",
    "    return f'{x:.10f}'"
   ],
   "metadata": {
    "collapsed": false,
    "ExecuteTime": {
     "end_time": "2023-10-11T10:04:09.569751Z",
     "start_time": "2023-10-11T10:04:09.481915500Z"
    }
   },
   "id": "8bc823b862edd24"
  },
  {
   "cell_type": "markdown",
   "source": [
    "## setup"
   ],
   "metadata": {
    "collapsed": false
   },
   "id": "f7f8b41a103e87bb"
  },
  {
   "cell_type": "code",
   "execution_count": 26,
   "outputs": [],
   "source": [
    "path = \"../../Data/regression/\"\n",
    "models = [\"bprmf\", \"bprmf_V\", \"bprmf_F\", \"bprmf_neural\"]\n",
    "results = pd.DataFrame(columns=[\"model\", \"avg_rmse\", \"rmse_runs\"])"
   ],
   "metadata": {
    "collapsed": false,
    "ExecuteTime": {
     "end_time": "2023-10-11T14:02:53.107276500Z",
     "start_time": "2023-10-11T14:02:52.949971800Z"
    }
   },
   "id": "94e028e618e1d04c"
  },
  {
   "cell_type": "markdown",
   "source": [
    "## EBM without confounder"
   ],
   "metadata": {
    "collapsed": false
   },
   "id": "feb2132e6fe6f194"
  },
  {
   "cell_type": "code",
   "execution_count": null,
   "outputs": [],
   "source": [
    "ebm = ExplainableBoostingRegressor(feature_types=[\"nominal\", \"continuous\", \"continuous\", \"continuous\", \"continuous\"],\n",
    "                                   learning_rate=0.01, \n",
    "                                   max_bins= 512, \n",
    "                                   min_samples_leaf= 3\n",
    "                                   )\n",
    "\n",
    "data = pd.read_csv(path + \"bprmf_regression_data.csv\")\n",
    "\n",
    "rmse_runs = []\n",
    "for i in range(0,5):\n",
    "    print(\"run:\", i)\n",
    "    # split data into train and test while keeping the ratio of labels\n",
    "    train = data.groupby('label').apply(lambda x: x.sample(frac=0.8, random_state=i)).reset_index(level=0, drop=True)\n",
    "    train = train.sample(frac=1)\n",
    "    test = data.drop(train.index).sample(frac=1)\n",
    "    \n",
    "    # log transformation\n",
    "    train[[\"status_count\", \"followers_count\", \"friend_count\"]] = train[\n",
    "            [\"status_count\", \"followers_count\", \"friend_count\"]].applymap(lambda x: x + 1)\n",
    "    train[[\"status_count\", \"followers_count\", \"friend_count\"]] = train[\n",
    "            [\"status_count\", \"followers_count\", \"friend_count\"]].apply(np.log)\n",
    "    test[[\"status_count\", \"followers_count\", \"friend_count\"]] = test[\n",
    "            [\"status_count\", \"followers_count\", \"friend_count\"]].applymap(lambda x: x + 1)\n",
    "    test[[\"status_count\", \"followers_count\", \"friend_count\"]] = test[\n",
    "            [\"status_count\", \"followers_count\", \"friend_count\"]].apply(np.log)\n",
    "    \n",
    "    # split into features and target\n",
    "    X_train = train[[\"verified\", \"register_time\", \"status_count\", \"followers_count\", \"friend_count\"]]\n",
    "    X_test = test[[\"verified\", \"register_time\", \"status_count\", \"followers_count\", \"friend_count\"]]\n",
    "    Y_train = train[\"label\"]\n",
    "    Y_test = test[\"label\"]\n",
    "    \n",
    "    # Train the model\n",
    "    ebm.fit(X_train, Y_train)\n",
    "    # Make predictions on the test set\n",
    "    y_pred = ebm.predict(X_test)\n",
    "    print(\"Mean prediction:\", y_pred.mean())\n",
    "    print(\"Mean label:\", Y_test.mean())\n",
    "    # Calculate and print the Root Mean Squared Error (RMSE)\n",
    "    rmse_runs.append(mean_squared_error(Y_test, y_pred, squared=False))\n",
    "\n",
    "\n",
    "temp = pd.DataFrame([{\"model\": \"Base\", \"avg_rmse\": np.mean(rmse_runs), \"rmse_runs\": rmse_runs}])\n",
    "results = pd.concat([results, temp], ignore_index=True)"
   ],
   "metadata": {
    "collapsed": false
   },
   "id": "c797cec7ff5ca59b"
  },
  {
   "cell_type": "markdown",
   "source": [
    "## EBM with confounder"
   ],
   "metadata": {
    "collapsed": false
   },
   "id": "afbd529286eeb714"
  },
  {
   "cell_type": "code",
   "execution_count": null,
   "outputs": [],
   "source": [
    "f_types = [\"nominal\"]\n",
    "f_types.extend([\"continuous\"] * 68)\n",
    "ebm = ExplainableBoostingRegressor(feature_types=f_types, \n",
    "                                   learning_rate=0.01, \n",
    "                                   max_bins= 512, \n",
    "                                   min_samples_leaf= 3\n",
    "                                   )\n",
    "\n",
    "global_bprmf_V = [] # save global explanation for bprmf_V to understand causal effects of user attributes\n",
    "results = results.head(1)\n",
    "for m in models:\n",
    "    print(\"model:\", m)\n",
    "    data = pd.read_csv(path + m + \"_regression_data.csv\")\n",
    "\n",
    "\n",
    "    rmse_runs = []\n",
    "    for i in range(0,5):\n",
    "        print(\"run:\", i)\n",
    "        # split data into train and test while keeping the ratio of labels\n",
    "        train = data.groupby('label').apply(lambda x: x.sample(frac=0.8, random_state=i)).reset_index(level=0, drop=True)\n",
    "        train = train.sample(frac=1, random_state=i)\n",
    "        test = data.drop(train.index).sample(frac=1)\n",
    "        \n",
    "        # log transformation\n",
    "        train[[\"status_count\", \"followers_count\", \"friend_count\"]] = train[\n",
    "                [\"status_count\", \"followers_count\", \"friend_count\"]].applymap(lambda x: x + 1)\n",
    "        train[[\"status_count\", \"followers_count\", \"friend_count\"]] = train[\n",
    "                [\"status_count\", \"followers_count\", \"friend_count\"]].apply(np.log)\n",
    "        test[[\"status_count\", \"followers_count\", \"friend_count\"]] = test[\n",
    "                [\"status_count\", \"followers_count\", \"friend_count\"]].applymap(lambda x: x + 1)\n",
    "        test[[\"status_count\", \"followers_count\", \"friend_count\"]] = test[\n",
    "                [\"status_count\", \"followers_count\", \"friend_count\"]].apply(np.log)\n",
    "        \n",
    "        # split into features and target\n",
    "        Y_train = train[\"label\"]\n",
    "        Y_test = test[\"label\"]\n",
    "        X_train = train.drop([\"label\", \"user_id\"], axis=1)\n",
    "        X_test = test.drop([\"label\", \"user_id\"], axis=1)\n",
    "        \n",
    "        # Train the model\n",
    "        ebm.fit(X_train, Y_train)\n",
    "        \n",
    "        # Make predictions on the test set\n",
    "        y_pred = ebm.predict(X_test)\n",
    "        print(\"Mean prediction:\", y_pred.mean())\n",
    "        \n",
    "        # Calculate and print the Root Mean Squared Error (RMSE)\n",
    "        rmse_runs.append(mean_squared_error(Y_test, y_pred, squared=False))\n",
    "        \n",
    "        if m == \"bprmf_V\":\n",
    "            ebm_global = ebm.explain_global()\n",
    "            global_bprmf_V.append(ebm_global)\n",
    "            # show example of global explanation\n",
    "            if i == 0:\n",
    "                show(ebm.explain_global())\n",
    "    \n",
    "    temp = pd.DataFrame([{\"model\": m+\"_log\", \"avg_rmse\": np.mean(rmse_runs), \"rmse_runs\": rmse_runs}])\n",
    "    results = pd.concat([results, temp], ignore_index=True)\n",
    "    print(\"finished model:\", m)"
   ],
   "metadata": {
    "collapsed": false
   },
   "id": "2313d3bc87fdd703"
  },
  {
   "cell_type": "code",
   "execution_count": null,
   "outputs": [],
   "source": [
    "results.to_csv(\"../results/causality/ebm_results_5runs.csv\", index=False, float_format=format_float)\n",
    "results"
   ],
   "metadata": {
    "collapsed": false
   },
   "id": "9cb4c7c9a7b39f7b"
  },
  {
   "cell_type": "markdown",
   "source": [
    "## ttest"
   ],
   "metadata": {
    "collapsed": false
   },
   "id": "24bc80620bb3dd08"
  },
  {
   "cell_type": "code",
   "execution_count": 20,
   "outputs": [
    {
     "name": "stdout",
     "output_type": "stream",
     "text": [
      "Ttest_indResult(statistic=0.8951741762469368, pvalue=0.3969501867531201)\n"
     ]
    }
   ],
   "source": [
    "# ttest ablation study\n",
    "import ast\n",
    "results = pd.read_csv(\"../results/causality/ebm_results_5runs.csv\")\n",
    "# literal eval of mse_runs column\n",
    "base_results = ast.literal_eval(results.iloc[0][\"mse_runs\"])\n",
    "bprmf_results = ast.literal_eval(results.iloc[1][\"mse_runs\"])\n",
    "ttest = stats.ttest_ind(base_results, bprmf_results, equal_var=False)\n",
    "print(ttest)"
   ],
   "metadata": {
    "collapsed": false,
    "ExecuteTime": {
     "end_time": "2023-10-11T12:17:41.204211100Z",
     "start_time": "2023-10-11T12:17:41.150739Z"
    }
   },
   "id": "3b6cbf5151996467"
  },
  {
   "cell_type": "markdown",
   "source": [
    "### feature importance"
   ],
   "metadata": {
    "collapsed": false,
    "ExecuteTime": {
     "end_time": "2023-10-10T19:04:19.309975600Z",
     "start_time": "2023-10-10T19:04:19.281815600Z"
    }
   },
   "id": "93b1d8c7e5815227"
  },
  {
   "cell_type": "code",
   "execution_count": 16,
   "outputs": [
    {
     "data": {
      "text/plain": "<Figure size 640x480 with 1 Axes>",
      "image/png": "[encoded data removed]"
     },
     "metadata": {},
     "output_type": "display_data"
    }
   ],
   "source": [
    "feature_importance = ebm_global.data()\n",
    "feature_names = [\"verified\", \"account age\", \"#posts\", \"#followers\", \"#friends\"]\n",
    "X_axis = np.arange(len(feature_names))\n",
    "\n",
    "ax = plt.subplot(111)\n",
    "plt.bar(X_axis, feature_importance[\"scores\"][:5], label=feature_names, color=['#003f5c', '#58508d', '#bc5090', '#ff6361', '#ffa600'])\n",
    "plt.tight_layout()\n",
    "plt.xticks(X_axis, feature_names, fontsize=12)\n",
    "plt.yticks(fontsize=16)\n",
    "plt.grid(False)\n",
    "plt.gca().tick_params(axis='both', which='both', bottom=True, top=False, left=True, right=False)"
   ],
   "metadata": {
    "collapsed": false,
    "ExecuteTime": {
     "end_time": "2023-10-10T19:04:45.259757400Z",
     "start_time": "2023-10-10T19:04:44.870020700Z"
    }
   },
   "id": "b317f555cc4eafc1"
  },
  {
   "cell_type": "markdown",
   "source": [
    "### Plot causal effects"
   ],
   "metadata": {
    "collapsed": false
   },
   "id": "d6896401f29c702c"
  },
  {
   "cell_type": "code",
   "execution_count": null,
   "outputs": [],
   "source": [
    "def get_ebm_data(ebm_global, f):\n",
    "    idx = ebm_global.selector.index[ebm_global.selector['Name'] == f][0]\n",
    "    data_dict = ebm_global.data(idx)\n",
    "    x_vals = data_dict[\"names\"].copy()\n",
    "    y_vals = data_dict[\"scores\"].copy()\n",
    "    upper_bounds = data_dict[\"upper_bounds\"].copy()\n",
    "    lower_bounds = data_dict[\"lower_bounds\"].copy()\n",
    "    \n",
    "    # Rearrangements\n",
    "    y_vals = np.r_[y_vals, y_vals[np.newaxis, -1]]\n",
    "    upper_bounds = np.r_[upper_bounds, upper_bounds[np.newaxis, -1]]\n",
    "    lower_bounds = np.r_[lower_bounds, lower_bounds[np.newaxis, -1]]\n",
    "    x_vals = np.array(x_vals)\n",
    "    \n",
    "    return x_vals, y_vals, upper_bounds, lower_bounds, idx\n",
    "\n",
    "def plot(x, y, f, idx):\n",
    "    # Create plot\n",
    "    plt.plot(x, y)\n",
    "    plt.xlabel(f)\n",
    "    plt.ylabel(f'$k_{idx+1}$({f})')\n",
    "    plt.show()"
   ],
   "metadata": {
    "collapsed": false
   },
   "id": "eaa3b6bf138a8c61"
  },
  {
   "cell_type": "code",
   "execution_count": null,
   "outputs": [],
   "source": [
    "# causal effect of categorical feature \"verified\"\n",
    "x_vals, y_vals, upper_bounds, lower_bounds, idx = get_ebm_data(ebm_global, \"verified\")   \n",
    "y_vals = np.r_[y_vals[:-1]]\n",
    "upper_bounds = np.r_[upper_bounds[:-1]]\n",
    "lower_bounds = np.r_[lower_bounds[:-1]]\n",
    "conf = [lower_bounds, upper_bounds]\n",
    "print(x_vals, y_vals, conf)"
   ],
   "metadata": {
    "collapsed": false
   },
   "id": "bad83dae09541b4a"
  },
  {
   "cell_type": "code",
   "execution_count": null,
   "outputs": [],
   "source": [
    "# plot causal effects for every numerical feature\n",
    "for f in X_train.columns[1:]:\n",
    "    print(f)\n",
    "    feature_names = [\"verfied\", \"account age\", \"#posts\", \"#followers\", \"#friends\"]\n",
    "    x_vals, y_vals, upper_bounds, lower_bounds, idx = get_ebm_data(ebm_global, f)        \n",
    "    \n",
    "    # Create plot\n",
    "    # plot(x, y_vals, f, idx)\n",
    "    plt.plot(x_vals, np.zeros(len(x_vals)), color='lightgrey')\n",
    "    plt.plot(x_vals, y_vals)\n",
    "    plt.plot(x_vals, upper_bounds, linestyle='dashed', color='orange')\n",
    "    plt.plot(x_vals, lower_bounds, linestyle='dashed', color='orange')\n",
    "    \n",
    "    plt.xlabel(feature_names[idx], fontsize=14)\n",
    "    plt.ylabel(\"Score\", fontsize=14)\n",
    "    plt.xlim([x_vals.min(), x_vals.max()])\n",
    "    plt.grid(False)\n",
    "    plt.gca().tick_params(axis='both', which='both', bottom=True, top=False, left=True, right=False, labelsize=14)\n",
    "    plt.show()"
   ],
   "metadata": {
    "collapsed": false
   },
   "id": "4a06209a8b5c93bb"
  }
 ],
 "metadata": {
  "kernelspec": {
   "display_name": "Python 3",
   "language": "python",
   "name": "python3"
  },
  "language_info": {
   "codemirror_mode": {
    "name": "ipython",
    "version": 2
   },
   "file_extension": ".py",
   "mimetype": "text/x-python",
   "name": "python",
   "nbconvert_exporter": "python",
   "pygments_lexer": "ipython2",
   "version": "2.7.6"
  }
 },
 "nbformat": 4,
 "nbformat_minor": 5
}
